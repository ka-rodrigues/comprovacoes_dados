{
  "nbformat": 4,
  "nbformat_minor": 0,
  "metadata": {
    "colab": {
      "provenance": []
    },
    "kernelspec": {
      "name": "python3",
      "display_name": "Python 3"
    },
    "language_info": {
      "name": "python"
    }
  },
  "cells": [
    {
      "cell_type": "code",
      "execution_count": null,
      "metadata": {
        "id": "1z3WgrSIQ_7z"
      },
      "outputs": [],
      "source": [
        "# manipulação de dados (DataFrames)\n",
        "import pandas as pd"
      ]
    },
    {
      "cell_type": "code",
      "source": [
        "# operações numéricas e vetoriais\n",
        "import numpy as np"
      ],
      "metadata": {
        "id": "KUFc4lRURIf3"
      },
      "execution_count": null,
      "outputs": []
    },
    {
      "cell_type": "code",
      "source": [
        "# visualizações básicas e avançadas\n",
        "import matplotlib.pyplot as plt"
      ],
      "metadata": {
        "id": "IPtc7u35RMJM"
      },
      "execution_count": null,
      "outputs": []
    },
    {
      "cell_type": "code",
      "source": [
        "# gráficos estatísticos com estilo\n",
        "import seaborn as sns"
      ],
      "metadata": {
        "id": "mtAYHGOzRSpN"
      },
      "execution_count": null,
      "outputs": []
    },
    {
      "cell_type": "code",
      "source": [
        "from google.colab import drive\n",
        "drive.mount('/content/drive')"
      ],
      "metadata": {
        "colab": {
          "base_uri": "https://localhost:8080/"
        },
        "id": "aQe0n5qaSHib",
        "outputId": "071f78ae-48f8-4f65-9fda-62d652366303"
      },
      "execution_count": null,
      "outputs": [
        {
          "output_type": "stream",
          "name": "stdout",
          "text": [
            "Mounted at /content/drive\n"
          ]
        }
      ]
    },
    {
      "cell_type": "code",
      "source": [
        "from google.colab import files\n",
        "uploaded = files.upload()"
      ],
      "metadata": {
        "colab": {
          "base_uri": "https://localhost:8080/",
          "height": 73
        },
        "id": "1IF3RX1oUhwq",
        "outputId": "73163248-3a68-498d-cc6f-9c42f2ee1117"
      },
      "execution_count": null,
      "outputs": [
        {
          "output_type": "display_data",
          "data": {
            "text/plain": [
              "<IPython.core.display.HTML object>"
            ],
            "text/html": [
              "\n",
              "     <input type=\"file\" id=\"files-adcafea2-2792-4bad-841b-7ba00dc47256\" name=\"files[]\" multiple disabled\n",
              "        style=\"border:none\" />\n",
              "     <output id=\"result-adcafea2-2792-4bad-841b-7ba00dc47256\">\n",
              "      Upload widget is only available when the cell has been executed in the\n",
              "      current browser session. Please rerun this cell to enable.\n",
              "      </output>\n",
              "      <script>// Copyright 2017 Google LLC\n",
              "//\n",
              "// Licensed under the Apache License, Version 2.0 (the \"License\");\n",
              "// you may not use this file except in compliance with the License.\n",
              "// You may obtain a copy of the License at\n",
              "//\n",
              "//      http://www.apache.org/licenses/LICENSE-2.0\n",
              "//\n",
              "// Unless required by applicable law or agreed to in writing, software\n",
              "// distributed under the License is distributed on an \"AS IS\" BASIS,\n",
              "// WITHOUT WARRANTIES OR CONDITIONS OF ANY KIND, either express or implied.\n",
              "// See the License for the specific language governing permissions and\n",
              "// limitations under the License.\n",
              "\n",
              "/**\n",
              " * @fileoverview Helpers for google.colab Python module.\n",
              " */\n",
              "(function(scope) {\n",
              "function span(text, styleAttributes = {}) {\n",
              "  const element = document.createElement('span');\n",
              "  element.textContent = text;\n",
              "  for (const key of Object.keys(styleAttributes)) {\n",
              "    element.style[key] = styleAttributes[key];\n",
              "  }\n",
              "  return element;\n",
              "}\n",
              "\n",
              "// Max number of bytes which will be uploaded at a time.\n",
              "const MAX_PAYLOAD_SIZE = 100 * 1024;\n",
              "\n",
              "function _uploadFiles(inputId, outputId) {\n",
              "  const steps = uploadFilesStep(inputId, outputId);\n",
              "  const outputElement = document.getElementById(outputId);\n",
              "  // Cache steps on the outputElement to make it available for the next call\n",
              "  // to uploadFilesContinue from Python.\n",
              "  outputElement.steps = steps;\n",
              "\n",
              "  return _uploadFilesContinue(outputId);\n",
              "}\n",
              "\n",
              "// This is roughly an async generator (not supported in the browser yet),\n",
              "// where there are multiple asynchronous steps and the Python side is going\n",
              "// to poll for completion of each step.\n",
              "// This uses a Promise to block the python side on completion of each step,\n",
              "// then passes the result of the previous step as the input to the next step.\n",
              "function _uploadFilesContinue(outputId) {\n",
              "  const outputElement = document.getElementById(outputId);\n",
              "  const steps = outputElement.steps;\n",
              "\n",
              "  const next = steps.next(outputElement.lastPromiseValue);\n",
              "  return Promise.resolve(next.value.promise).then((value) => {\n",
              "    // Cache the last promise value to make it available to the next\n",
              "    // step of the generator.\n",
              "    outputElement.lastPromiseValue = value;\n",
              "    return next.value.response;\n",
              "  });\n",
              "}\n",
              "\n",
              "/**\n",
              " * Generator function which is called between each async step of the upload\n",
              " * process.\n",
              " * @param {string} inputId Element ID of the input file picker element.\n",
              " * @param {string} outputId Element ID of the output display.\n",
              " * @return {!Iterable<!Object>} Iterable of next steps.\n",
              " */\n",
              "function* uploadFilesStep(inputId, outputId) {\n",
              "  const inputElement = document.getElementById(inputId);\n",
              "  inputElement.disabled = false;\n",
              "\n",
              "  const outputElement = document.getElementById(outputId);\n",
              "  outputElement.innerHTML = '';\n",
              "\n",
              "  const pickedPromise = new Promise((resolve) => {\n",
              "    inputElement.addEventListener('change', (e) => {\n",
              "      resolve(e.target.files);\n",
              "    });\n",
              "  });\n",
              "\n",
              "  const cancel = document.createElement('button');\n",
              "  inputElement.parentElement.appendChild(cancel);\n",
              "  cancel.textContent = 'Cancel upload';\n",
              "  const cancelPromise = new Promise((resolve) => {\n",
              "    cancel.onclick = () => {\n",
              "      resolve(null);\n",
              "    };\n",
              "  });\n",
              "\n",
              "  // Wait for the user to pick the files.\n",
              "  const files = yield {\n",
              "    promise: Promise.race([pickedPromise, cancelPromise]),\n",
              "    response: {\n",
              "      action: 'starting',\n",
              "    }\n",
              "  };\n",
              "\n",
              "  cancel.remove();\n",
              "\n",
              "  // Disable the input element since further picks are not allowed.\n",
              "  inputElement.disabled = true;\n",
              "\n",
              "  if (!files) {\n",
              "    return {\n",
              "      response: {\n",
              "        action: 'complete',\n",
              "      }\n",
              "    };\n",
              "  }\n",
              "\n",
              "  for (const file of files) {\n",
              "    const li = document.createElement('li');\n",
              "    li.append(span(file.name, {fontWeight: 'bold'}));\n",
              "    li.append(span(\n",
              "        `(${file.type || 'n/a'}) - ${file.size} bytes, ` +\n",
              "        `last modified: ${\n",
              "            file.lastModifiedDate ? file.lastModifiedDate.toLocaleDateString() :\n",
              "                                    'n/a'} - `));\n",
              "    const percent = span('0% done');\n",
              "    li.appendChild(percent);\n",
              "\n",
              "    outputElement.appendChild(li);\n",
              "\n",
              "    const fileDataPromise = new Promise((resolve) => {\n",
              "      const reader = new FileReader();\n",
              "      reader.onload = (e) => {\n",
              "        resolve(e.target.result);\n",
              "      };\n",
              "      reader.readAsArrayBuffer(file);\n",
              "    });\n",
              "    // Wait for the data to be ready.\n",
              "    let fileData = yield {\n",
              "      promise: fileDataPromise,\n",
              "      response: {\n",
              "        action: 'continue',\n",
              "      }\n",
              "    };\n",
              "\n",
              "    // Use a chunked sending to avoid message size limits. See b/62115660.\n",
              "    let position = 0;\n",
              "    do {\n",
              "      const length = Math.min(fileData.byteLength - position, MAX_PAYLOAD_SIZE);\n",
              "      const chunk = new Uint8Array(fileData, position, length);\n",
              "      position += length;\n",
              "\n",
              "      const base64 = btoa(String.fromCharCode.apply(null, chunk));\n",
              "      yield {\n",
              "        response: {\n",
              "          action: 'append',\n",
              "          file: file.name,\n",
              "          data: base64,\n",
              "        },\n",
              "      };\n",
              "\n",
              "      let percentDone = fileData.byteLength === 0 ?\n",
              "          100 :\n",
              "          Math.round((position / fileData.byteLength) * 100);\n",
              "      percent.textContent = `${percentDone}% done`;\n",
              "\n",
              "    } while (position < fileData.byteLength);\n",
              "  }\n",
              "\n",
              "  // All done.\n",
              "  yield {\n",
              "    response: {\n",
              "      action: 'complete',\n",
              "    }\n",
              "  };\n",
              "}\n",
              "\n",
              "scope.google = scope.google || {};\n",
              "scope.google.colab = scope.google.colab || {};\n",
              "scope.google.colab._files = {\n",
              "  _uploadFiles,\n",
              "  _uploadFilesContinue,\n",
              "};\n",
              "})(self);\n",
              "</script> "
            ]
          },
          "metadata": {}
        },
        {
          "output_type": "stream",
          "name": "stdout",
          "text": [
            "Saving dados_venda_empresa1.csv.csv to dados_venda_empresa1.csv.csv\n"
          ]
        }
      ]
    },
    {
      "cell_type": "code",
      "source": [
        "# ver as primeiras linhas do data frame\n",
        "tabela = pd.read_csv('dados_venda_empresa1.csv.csv')\n",
        "display(tabela)"
      ],
      "metadata": {
        "colab": {
          "base_uri": "https://localhost:8080/",
          "height": 424
        },
        "id": "dPK1lmULVXmR",
        "outputId": "978678ba-45f5-4c26-c44f-3c0c64c104ba"
      },
      "execution_count": null,
      "outputs": [
        {
          "output_type": "display_data",
          "data": {
            "text/plain": [
              "     data_venda          nome_cliente estado    nome_produto    categoria  \\\n",
              "0    2025-05-11   Dra, Mariana da Paz     BA           Leite    Alimentos   \n",
              "1    2025-03-14       Marcela Rezende     BA          Feijão    Alimentos   \n",
              "2    2025-04-18    Srta, Brenda Cunha     BA   Quebra-Cabeça   Brinquedos   \n",
              "3    2025-02-09  Maria Clara Caldeira     BA  Fone de Ouvido  Eletrônicos   \n",
              "4    2025-04-10   João Felipe Cardoso     BA        Carrinho   Brinquedos   \n",
              "..          ...                   ...    ...             ...          ...   \n",
              "195  2025-04-05           Pedro Sales     SP            Café    Alimentos   \n",
              "196  2024-12-17        Catarina Costa     SP             Pão    Alimentos   \n",
              "197  2025-02-15      Sr, Igor da Mota     SP         Jaqueta    Vestuário   \n",
              "198  2025-03-28        Amanda Costela     SP           Leite    Alimentos   \n",
              "199  2025-02-24  Maria Vitória Aragão     SP           Arroz    Alimentos   \n",
              "\n",
              "     quantidade preco_unitario  total_venda  quantidade_estoque  \\\n",
              "0             9       1.610,73     14496.57                 116   \n",
              "1             7       2.406,94     16848.58                 131   \n",
              "2             1       2.192,52      2192.52                 224   \n",
              "3             2       2.008,93      4017.86                 201   \n",
              "4             8         624,63      4997.04                 170   \n",
              "..          ...            ...          ...                 ...   \n",
              "195           5       2.426,59     12132.95                 135   \n",
              "196           5         158,02       790.10                 132   \n",
              "197           7       1.733,91     12137.37                 264   \n",
              "198           6       1.224,69      7348.14                 153   \n",
              "199           8       1.491,66     11933.28                 196   \n",
              "\n",
              "    localizacao_estoque   ano  mes  dia  dia da semana  \n",
              "0              C3-A2-B2  2025    5   11              1  \n",
              "1              B2-A1-C2  2025    3   14              6  \n",
              "2              C3-A2-B2  2025    4   18              6  \n",
              "3              B2-A1-C2  2025    2    9              1  \n",
              "4              D1-A2-B1  2025    4   10              5  \n",
              "..                  ...   ...  ...  ...            ...  \n",
              "195            A2-B2-C1  2025    4    5              7  \n",
              "196            A2-B2-C1  2024   12   17              3  \n",
              "197            A1-B1-C1  2025    2   15              7  \n",
              "198            D1-A2-B1  2025    3   28              6  \n",
              "199            B2-A1-C2  2025    2   24              2  \n",
              "\n",
              "[200 rows x 14 columns]"
            ],
            "text/html": [
              "\n",
              "  <div id=\"df-c7b74326-d841-43a5-9305-bedecd8dee3c\" class=\"colab-df-container\">\n",
              "    <div>\n",
              "<style scoped>\n",
              "    .dataframe tbody tr th:only-of-type {\n",
              "        vertical-align: middle;\n",
              "    }\n",
              "\n",
              "    .dataframe tbody tr th {\n",
              "        vertical-align: top;\n",
              "    }\n",
              "\n",
              "    .dataframe thead th {\n",
              "        text-align: right;\n",
              "    }\n",
              "</style>\n",
              "<table border=\"1\" class=\"dataframe\">\n",
              "  <thead>\n",
              "    <tr style=\"text-align: right;\">\n",
              "      <th></th>\n",
              "      <th>data_venda</th>\n",
              "      <th>nome_cliente</th>\n",
              "      <th>estado</th>\n",
              "      <th>nome_produto</th>\n",
              "      <th>categoria</th>\n",
              "      <th>quantidade</th>\n",
              "      <th>preco_unitario</th>\n",
              "      <th>total_venda</th>\n",
              "      <th>quantidade_estoque</th>\n",
              "      <th>localizacao_estoque</th>\n",
              "      <th>ano</th>\n",
              "      <th>mes</th>\n",
              "      <th>dia</th>\n",
              "      <th>dia da semana</th>\n",
              "    </tr>\n",
              "  </thead>\n",
              "  <tbody>\n",
              "    <tr>\n",
              "      <th>0</th>\n",
              "      <td>2025-05-11</td>\n",
              "      <td>Dra, Mariana da Paz</td>\n",
              "      <td>BA</td>\n",
              "      <td>Leite</td>\n",
              "      <td>Alimentos</td>\n",
              "      <td>9</td>\n",
              "      <td>1.610,73</td>\n",
              "      <td>14496.57</td>\n",
              "      <td>116</td>\n",
              "      <td>C3-A2-B2</td>\n",
              "      <td>2025</td>\n",
              "      <td>5</td>\n",
              "      <td>11</td>\n",
              "      <td>1</td>\n",
              "    </tr>\n",
              "    <tr>\n",
              "      <th>1</th>\n",
              "      <td>2025-03-14</td>\n",
              "      <td>Marcela Rezende</td>\n",
              "      <td>BA</td>\n",
              "      <td>Feijão</td>\n",
              "      <td>Alimentos</td>\n",
              "      <td>7</td>\n",
              "      <td>2.406,94</td>\n",
              "      <td>16848.58</td>\n",
              "      <td>131</td>\n",
              "      <td>B2-A1-C2</td>\n",
              "      <td>2025</td>\n",
              "      <td>3</td>\n",
              "      <td>14</td>\n",
              "      <td>6</td>\n",
              "    </tr>\n",
              "    <tr>\n",
              "      <th>2</th>\n",
              "      <td>2025-04-18</td>\n",
              "      <td>Srta, Brenda Cunha</td>\n",
              "      <td>BA</td>\n",
              "      <td>Quebra-Cabeça</td>\n",
              "      <td>Brinquedos</td>\n",
              "      <td>1</td>\n",
              "      <td>2.192,52</td>\n",
              "      <td>2192.52</td>\n",
              "      <td>224</td>\n",
              "      <td>C3-A2-B2</td>\n",
              "      <td>2025</td>\n",
              "      <td>4</td>\n",
              "      <td>18</td>\n",
              "      <td>6</td>\n",
              "    </tr>\n",
              "    <tr>\n",
              "      <th>3</th>\n",
              "      <td>2025-02-09</td>\n",
              "      <td>Maria Clara Caldeira</td>\n",
              "      <td>BA</td>\n",
              "      <td>Fone de Ouvido</td>\n",
              "      <td>Eletrônicos</td>\n",
              "      <td>2</td>\n",
              "      <td>2.008,93</td>\n",
              "      <td>4017.86</td>\n",
              "      <td>201</td>\n",
              "      <td>B2-A1-C2</td>\n",
              "      <td>2025</td>\n",
              "      <td>2</td>\n",
              "      <td>9</td>\n",
              "      <td>1</td>\n",
              "    </tr>\n",
              "    <tr>\n",
              "      <th>4</th>\n",
              "      <td>2025-04-10</td>\n",
              "      <td>João Felipe Cardoso</td>\n",
              "      <td>BA</td>\n",
              "      <td>Carrinho</td>\n",
              "      <td>Brinquedos</td>\n",
              "      <td>8</td>\n",
              "      <td>624,63</td>\n",
              "      <td>4997.04</td>\n",
              "      <td>170</td>\n",
              "      <td>D1-A2-B1</td>\n",
              "      <td>2025</td>\n",
              "      <td>4</td>\n",
              "      <td>10</td>\n",
              "      <td>5</td>\n",
              "    </tr>\n",
              "    <tr>\n",
              "      <th>...</th>\n",
              "      <td>...</td>\n",
              "      <td>...</td>\n",
              "      <td>...</td>\n",
              "      <td>...</td>\n",
              "      <td>...</td>\n",
              "      <td>...</td>\n",
              "      <td>...</td>\n",
              "      <td>...</td>\n",
              "      <td>...</td>\n",
              "      <td>...</td>\n",
              "      <td>...</td>\n",
              "      <td>...</td>\n",
              "      <td>...</td>\n",
              "      <td>...</td>\n",
              "    </tr>\n",
              "    <tr>\n",
              "      <th>195</th>\n",
              "      <td>2025-04-05</td>\n",
              "      <td>Pedro Sales</td>\n",
              "      <td>SP</td>\n",
              "      <td>Café</td>\n",
              "      <td>Alimentos</td>\n",
              "      <td>5</td>\n",
              "      <td>2.426,59</td>\n",
              "      <td>12132.95</td>\n",
              "      <td>135</td>\n",
              "      <td>A2-B2-C1</td>\n",
              "      <td>2025</td>\n",
              "      <td>4</td>\n",
              "      <td>5</td>\n",
              "      <td>7</td>\n",
              "    </tr>\n",
              "    <tr>\n",
              "      <th>196</th>\n",
              "      <td>2024-12-17</td>\n",
              "      <td>Catarina Costa</td>\n",
              "      <td>SP</td>\n",
              "      <td>Pão</td>\n",
              "      <td>Alimentos</td>\n",
              "      <td>5</td>\n",
              "      <td>158,02</td>\n",
              "      <td>790.10</td>\n",
              "      <td>132</td>\n",
              "      <td>A2-B2-C1</td>\n",
              "      <td>2024</td>\n",
              "      <td>12</td>\n",
              "      <td>17</td>\n",
              "      <td>3</td>\n",
              "    </tr>\n",
              "    <tr>\n",
              "      <th>197</th>\n",
              "      <td>2025-02-15</td>\n",
              "      <td>Sr, Igor da Mota</td>\n",
              "      <td>SP</td>\n",
              "      <td>Jaqueta</td>\n",
              "      <td>Vestuário</td>\n",
              "      <td>7</td>\n",
              "      <td>1.733,91</td>\n",
              "      <td>12137.37</td>\n",
              "      <td>264</td>\n",
              "      <td>A1-B1-C1</td>\n",
              "      <td>2025</td>\n",
              "      <td>2</td>\n",
              "      <td>15</td>\n",
              "      <td>7</td>\n",
              "    </tr>\n",
              "    <tr>\n",
              "      <th>198</th>\n",
              "      <td>2025-03-28</td>\n",
              "      <td>Amanda Costela</td>\n",
              "      <td>SP</td>\n",
              "      <td>Leite</td>\n",
              "      <td>Alimentos</td>\n",
              "      <td>6</td>\n",
              "      <td>1.224,69</td>\n",
              "      <td>7348.14</td>\n",
              "      <td>153</td>\n",
              "      <td>D1-A2-B1</td>\n",
              "      <td>2025</td>\n",
              "      <td>3</td>\n",
              "      <td>28</td>\n",
              "      <td>6</td>\n",
              "    </tr>\n",
              "    <tr>\n",
              "      <th>199</th>\n",
              "      <td>2025-02-24</td>\n",
              "      <td>Maria Vitória Aragão</td>\n",
              "      <td>SP</td>\n",
              "      <td>Arroz</td>\n",
              "      <td>Alimentos</td>\n",
              "      <td>8</td>\n",
              "      <td>1.491,66</td>\n",
              "      <td>11933.28</td>\n",
              "      <td>196</td>\n",
              "      <td>B2-A1-C2</td>\n",
              "      <td>2025</td>\n",
              "      <td>2</td>\n",
              "      <td>24</td>\n",
              "      <td>2</td>\n",
              "    </tr>\n",
              "  </tbody>\n",
              "</table>\n",
              "<p>200 rows × 14 columns</p>\n",
              "</div>\n",
              "    <div class=\"colab-df-buttons\">\n",
              "\n",
              "  <div class=\"colab-df-container\">\n",
              "    <button class=\"colab-df-convert\" onclick=\"convertToInteractive('df-c7b74326-d841-43a5-9305-bedecd8dee3c')\"\n",
              "            title=\"Convert this dataframe to an interactive table.\"\n",
              "            style=\"display:none;\">\n",
              "\n",
              "  <svg xmlns=\"http://www.w3.org/2000/svg\" height=\"24px\" viewBox=\"0 -960 960 960\">\n",
              "    <path d=\"M120-120v-720h720v720H120Zm60-500h600v-160H180v160Zm220 220h160v-160H400v160Zm0 220h160v-160H400v160ZM180-400h160v-160H180v160Zm440 0h160v-160H620v160ZM180-180h160v-160H180v160Zm440 0h160v-160H620v160Z\"/>\n",
              "  </svg>\n",
              "    </button>\n",
              "\n",
              "  <style>\n",
              "    .colab-df-container {\n",
              "      display:flex;\n",
              "      gap: 12px;\n",
              "    }\n",
              "\n",
              "    .colab-df-convert {\n",
              "      background-color: #E8F0FE;\n",
              "      border: none;\n",
              "      border-radius: 50%;\n",
              "      cursor: pointer;\n",
              "      display: none;\n",
              "      fill: #1967D2;\n",
              "      height: 32px;\n",
              "      padding: 0 0 0 0;\n",
              "      width: 32px;\n",
              "    }\n",
              "\n",
              "    .colab-df-convert:hover {\n",
              "      background-color: #E2EBFA;\n",
              "      box-shadow: 0px 1px 2px rgba(60, 64, 67, 0.3), 0px 1px 3px 1px rgba(60, 64, 67, 0.15);\n",
              "      fill: #174EA6;\n",
              "    }\n",
              "\n",
              "    .colab-df-buttons div {\n",
              "      margin-bottom: 4px;\n",
              "    }\n",
              "\n",
              "    [theme=dark] .colab-df-convert {\n",
              "      background-color: #3B4455;\n",
              "      fill: #D2E3FC;\n",
              "    }\n",
              "\n",
              "    [theme=dark] .colab-df-convert:hover {\n",
              "      background-color: #434B5C;\n",
              "      box-shadow: 0px 1px 3px 1px rgba(0, 0, 0, 0.15);\n",
              "      filter: drop-shadow(0px 1px 2px rgba(0, 0, 0, 0.3));\n",
              "      fill: #FFFFFF;\n",
              "    }\n",
              "  </style>\n",
              "\n",
              "    <script>\n",
              "      const buttonEl =\n",
              "        document.querySelector('#df-c7b74326-d841-43a5-9305-bedecd8dee3c button.colab-df-convert');\n",
              "      buttonEl.style.display =\n",
              "        google.colab.kernel.accessAllowed ? 'block' : 'none';\n",
              "\n",
              "      async function convertToInteractive(key) {\n",
              "        const element = document.querySelector('#df-c7b74326-d841-43a5-9305-bedecd8dee3c');\n",
              "        const dataTable =\n",
              "          await google.colab.kernel.invokeFunction('convertToInteractive',\n",
              "                                                    [key], {});\n",
              "        if (!dataTable) return;\n",
              "\n",
              "        const docLinkHtml = 'Like what you see? Visit the ' +\n",
              "          '<a target=\"_blank\" href=https://colab.research.google.com/notebooks/data_table.ipynb>data table notebook</a>'\n",
              "          + ' to learn more about interactive tables.';\n",
              "        element.innerHTML = '';\n",
              "        dataTable['output_type'] = 'display_data';\n",
              "        await google.colab.output.renderOutput(dataTable, element);\n",
              "        const docLink = document.createElement('div');\n",
              "        docLink.innerHTML = docLinkHtml;\n",
              "        element.appendChild(docLink);\n",
              "      }\n",
              "    </script>\n",
              "  </div>\n",
              "\n",
              "\n",
              "    <div id=\"df-fd84f0c3-1053-4b44-9b3c-7fe29c4e1519\">\n",
              "      <button class=\"colab-df-quickchart\" onclick=\"quickchart('df-fd84f0c3-1053-4b44-9b3c-7fe29c4e1519')\"\n",
              "                title=\"Suggest charts\"\n",
              "                style=\"display:none;\">\n",
              "\n",
              "<svg xmlns=\"http://www.w3.org/2000/svg\" height=\"24px\"viewBox=\"0 0 24 24\"\n",
              "     width=\"24px\">\n",
              "    <g>\n",
              "        <path d=\"M19 3H5c-1.1 0-2 .9-2 2v14c0 1.1.9 2 2 2h14c1.1 0 2-.9 2-2V5c0-1.1-.9-2-2-2zM9 17H7v-7h2v7zm4 0h-2V7h2v10zm4 0h-2v-4h2v4z\"/>\n",
              "    </g>\n",
              "</svg>\n",
              "      </button>\n",
              "\n",
              "<style>\n",
              "  .colab-df-quickchart {\n",
              "      --bg-color: #E8F0FE;\n",
              "      --fill-color: #1967D2;\n",
              "      --hover-bg-color: #E2EBFA;\n",
              "      --hover-fill-color: #174EA6;\n",
              "      --disabled-fill-color: #AAA;\n",
              "      --disabled-bg-color: #DDD;\n",
              "  }\n",
              "\n",
              "  [theme=dark] .colab-df-quickchart {\n",
              "      --bg-color: #3B4455;\n",
              "      --fill-color: #D2E3FC;\n",
              "      --hover-bg-color: #434B5C;\n",
              "      --hover-fill-color: #FFFFFF;\n",
              "      --disabled-bg-color: #3B4455;\n",
              "      --disabled-fill-color: #666;\n",
              "  }\n",
              "\n",
              "  .colab-df-quickchart {\n",
              "    background-color: var(--bg-color);\n",
              "    border: none;\n",
              "    border-radius: 50%;\n",
              "    cursor: pointer;\n",
              "    display: none;\n",
              "    fill: var(--fill-color);\n",
              "    height: 32px;\n",
              "    padding: 0;\n",
              "    width: 32px;\n",
              "  }\n",
              "\n",
              "  .colab-df-quickchart:hover {\n",
              "    background-color: var(--hover-bg-color);\n",
              "    box-shadow: 0 1px 2px rgba(60, 64, 67, 0.3), 0 1px 3px 1px rgba(60, 64, 67, 0.15);\n",
              "    fill: var(--button-hover-fill-color);\n",
              "  }\n",
              "\n",
              "  .colab-df-quickchart-complete:disabled,\n",
              "  .colab-df-quickchart-complete:disabled:hover {\n",
              "    background-color: var(--disabled-bg-color);\n",
              "    fill: var(--disabled-fill-color);\n",
              "    box-shadow: none;\n",
              "  }\n",
              "\n",
              "  .colab-df-spinner {\n",
              "    border: 2px solid var(--fill-color);\n",
              "    border-color: transparent;\n",
              "    border-bottom-color: var(--fill-color);\n",
              "    animation:\n",
              "      spin 1s steps(1) infinite;\n",
              "  }\n",
              "\n",
              "  @keyframes spin {\n",
              "    0% {\n",
              "      border-color: transparent;\n",
              "      border-bottom-color: var(--fill-color);\n",
              "      border-left-color: var(--fill-color);\n",
              "    }\n",
              "    20% {\n",
              "      border-color: transparent;\n",
              "      border-left-color: var(--fill-color);\n",
              "      border-top-color: var(--fill-color);\n",
              "    }\n",
              "    30% {\n",
              "      border-color: transparent;\n",
              "      border-left-color: var(--fill-color);\n",
              "      border-top-color: var(--fill-color);\n",
              "      border-right-color: var(--fill-color);\n",
              "    }\n",
              "    40% {\n",
              "      border-color: transparent;\n",
              "      border-right-color: var(--fill-color);\n",
              "      border-top-color: var(--fill-color);\n",
              "    }\n",
              "    60% {\n",
              "      border-color: transparent;\n",
              "      border-right-color: var(--fill-color);\n",
              "    }\n",
              "    80% {\n",
              "      border-color: transparent;\n",
              "      border-right-color: var(--fill-color);\n",
              "      border-bottom-color: var(--fill-color);\n",
              "    }\n",
              "    90% {\n",
              "      border-color: transparent;\n",
              "      border-bottom-color: var(--fill-color);\n",
              "    }\n",
              "  }\n",
              "</style>\n",
              "\n",
              "      <script>\n",
              "        async function quickchart(key) {\n",
              "          const quickchartButtonEl =\n",
              "            document.querySelector('#' + key + ' button');\n",
              "          quickchartButtonEl.disabled = true;  // To prevent multiple clicks.\n",
              "          quickchartButtonEl.classList.add('colab-df-spinner');\n",
              "          try {\n",
              "            const charts = await google.colab.kernel.invokeFunction(\n",
              "                'suggestCharts', [key], {});\n",
              "          } catch (error) {\n",
              "            console.error('Error during call to suggestCharts:', error);\n",
              "          }\n",
              "          quickchartButtonEl.classList.remove('colab-df-spinner');\n",
              "          quickchartButtonEl.classList.add('colab-df-quickchart-complete');\n",
              "        }\n",
              "        (() => {\n",
              "          let quickchartButtonEl =\n",
              "            document.querySelector('#df-fd84f0c3-1053-4b44-9b3c-7fe29c4e1519 button');\n",
              "          quickchartButtonEl.style.display =\n",
              "            google.colab.kernel.accessAllowed ? 'block' : 'none';\n",
              "        })();\n",
              "      </script>\n",
              "    </div>\n",
              "\n",
              "  <div id=\"id_b9fb3f91-b0ad-4f1c-8517-c5298528da57\">\n",
              "    <style>\n",
              "      .colab-df-generate {\n",
              "        background-color: #E8F0FE;\n",
              "        border: none;\n",
              "        border-radius: 50%;\n",
              "        cursor: pointer;\n",
              "        display: none;\n",
              "        fill: #1967D2;\n",
              "        height: 32px;\n",
              "        padding: 0 0 0 0;\n",
              "        width: 32px;\n",
              "      }\n",
              "\n",
              "      .colab-df-generate:hover {\n",
              "        background-color: #E2EBFA;\n",
              "        box-shadow: 0px 1px 2px rgba(60, 64, 67, 0.3), 0px 1px 3px 1px rgba(60, 64, 67, 0.15);\n",
              "        fill: #174EA6;\n",
              "      }\n",
              "\n",
              "      [theme=dark] .colab-df-generate {\n",
              "        background-color: #3B4455;\n",
              "        fill: #D2E3FC;\n",
              "      }\n",
              "\n",
              "      [theme=dark] .colab-df-generate:hover {\n",
              "        background-color: #434B5C;\n",
              "        box-shadow: 0px 1px 3px 1px rgba(0, 0, 0, 0.15);\n",
              "        filter: drop-shadow(0px 1px 2px rgba(0, 0, 0, 0.3));\n",
              "        fill: #FFFFFF;\n",
              "      }\n",
              "    </style>\n",
              "    <button class=\"colab-df-generate\" onclick=\"generateWithVariable('tabela')\"\n",
              "            title=\"Generate code using this dataframe.\"\n",
              "            style=\"display:none;\">\n",
              "\n",
              "  <svg xmlns=\"http://www.w3.org/2000/svg\" height=\"24px\"viewBox=\"0 0 24 24\"\n",
              "       width=\"24px\">\n",
              "    <path d=\"M7,19H8.4L18.45,9,17,7.55,7,17.6ZM5,21V16.75L18.45,3.32a2,2,0,0,1,2.83,0l1.4,1.43a1.91,1.91,0,0,1,.58,1.4,1.91,1.91,0,0,1-.58,1.4L9.25,21ZM18.45,9,17,7.55Zm-12,3A5.31,5.31,0,0,0,4.9,8.1,5.31,5.31,0,0,0,1,6.5,5.31,5.31,0,0,0,4.9,4.9,5.31,5.31,0,0,0,6.5,1,5.31,5.31,0,0,0,8.1,4.9,5.31,5.31,0,0,0,12,6.5,5.46,5.46,0,0,0,6.5,12Z\"/>\n",
              "  </svg>\n",
              "    </button>\n",
              "    <script>\n",
              "      (() => {\n",
              "      const buttonEl =\n",
              "        document.querySelector('#id_b9fb3f91-b0ad-4f1c-8517-c5298528da57 button.colab-df-generate');\n",
              "      buttonEl.style.display =\n",
              "        google.colab.kernel.accessAllowed ? 'block' : 'none';\n",
              "\n",
              "      buttonEl.onclick = () => {\n",
              "        google.colab.notebook.generateWithVariable('tabela');\n",
              "      }\n",
              "      })();\n",
              "    </script>\n",
              "  </div>\n",
              "\n",
              "    </div>\n",
              "  </div>\n"
            ],
            "application/vnd.google.colaboratory.intrinsic+json": {
              "type": "dataframe",
              "variable_name": "tabela",
              "summary": "{\n  \"name\": \"tabela\",\n  \"rows\": 200,\n  \"fields\": [\n    {\n      \"column\": \"data_venda\",\n      \"properties\": {\n        \"dtype\": \"object\",\n        \"num_unique_values\": 125,\n        \"samples\": [\n          \"2025-01-13\",\n          \"2025-01-03\",\n          \"2025-04-01\"\n        ],\n        \"semantic_type\": \"\",\n        \"description\": \"\"\n      }\n    },\n    {\n      \"column\": \"nome_cliente\",\n      \"properties\": {\n        \"dtype\": \"string\",\n        \"num_unique_values\": 199,\n        \"samples\": [\n          \"Matheus Caldeira\",\n          \"Vicente Teixeira\",\n          \"Ana Julia Gon\\u00e7alves\"\n        ],\n        \"semantic_type\": \"\",\n        \"description\": \"\"\n      }\n    },\n    {\n      \"column\": \"estado\",\n      \"properties\": {\n        \"dtype\": \"category\",\n        \"num_unique_values\": 7,\n        \"samples\": [\n          \"BA\",\n          \"MG\",\n          \"RS\"\n        ],\n        \"semantic_type\": \"\",\n        \"description\": \"\"\n      }\n    },\n    {\n      \"column\": \"nome_produto\",\n      \"properties\": {\n        \"dtype\": \"category\",\n        \"num_unique_values\": 25,\n        \"samples\": [\n          \"Arroz\",\n          \"Cadeira\",\n          \"Leite\"\n        ],\n        \"semantic_type\": \"\",\n        \"description\": \"\"\n      }\n    },\n    {\n      \"column\": \"categoria\",\n      \"properties\": {\n        \"dtype\": \"category\",\n        \"num_unique_values\": 5,\n        \"samples\": [\n          \"Brinquedos\",\n          \"Vestu\\u00e1rio\",\n          \"Eletr\\u00f4nicos\"\n        ],\n        \"semantic_type\": \"\",\n        \"description\": \"\"\n      }\n    },\n    {\n      \"column\": \"quantidade\",\n      \"properties\": {\n        \"dtype\": \"number\",\n        \"std\": 2,\n        \"min\": 1,\n        \"max\": 10,\n        \"num_unique_values\": 10,\n        \"samples\": [\n          5,\n          7,\n          6\n        ],\n        \"semantic_type\": \"\",\n        \"description\": \"\"\n      }\n    },\n    {\n      \"column\": \"preco_unitario\",\n      \"properties\": {\n        \"dtype\": \"string\",\n        \"num_unique_values\": 200,\n        \"samples\": [\n          \"2.371,99\",\n          \"2.258,73\",\n          \"1.022,47\"\n        ],\n        \"semantic_type\": \"\",\n        \"description\": \"\"\n      }\n    },\n    {\n      \"column\": \"total_venda\",\n      \"properties\": {\n        \"dtype\": \"number\",\n        \"std\": 6864.711049782606,\n        \"min\": 81.18,\n        \"max\": 26662.59,\n        \"num_unique_values\": 200,\n        \"samples\": [\n          21347.91,\n          15811.11,\n          3067.41\n        ],\n        \"semantic_type\": \"\",\n        \"description\": \"\"\n      }\n    },\n    {\n      \"column\": \"quantidade_estoque\",\n      \"properties\": {\n        \"dtype\": \"number\",\n        \"std\": 81,\n        \"min\": 11,\n        \"max\": 298,\n        \"num_unique_values\": 139,\n        \"samples\": [\n          243,\n          240,\n          256\n        ],\n        \"semantic_type\": \"\",\n        \"description\": \"\"\n      }\n    },\n    {\n      \"column\": \"localizacao_estoque\",\n      \"properties\": {\n        \"dtype\": \"category\",\n        \"num_unique_values\": 5,\n        \"samples\": [\n          \"B2-A1-C2\",\n          \"A1-B1-C1\",\n          \"D1-A2-B1\"\n        ],\n        \"semantic_type\": \"\",\n        \"description\": \"\"\n      }\n    },\n    {\n      \"column\": \"ano\",\n      \"properties\": {\n        \"dtype\": \"number\",\n        \"std\": 0,\n        \"min\": 2024,\n        \"max\": 2025,\n        \"num_unique_values\": 2,\n        \"samples\": [\n          2024,\n          2025\n        ],\n        \"semantic_type\": \"\",\n        \"description\": \"\"\n      }\n    },\n    {\n      \"column\": \"mes\",\n      \"properties\": {\n        \"dtype\": \"number\",\n        \"std\": 3,\n        \"min\": 1,\n        \"max\": 12,\n        \"num_unique_values\": 7,\n        \"samples\": [\n          5,\n          3\n        ],\n        \"semantic_type\": \"\",\n        \"description\": \"\"\n      }\n    },\n    {\n      \"column\": \"dia\",\n      \"properties\": {\n        \"dtype\": \"number\",\n        \"std\": 8,\n        \"min\": 1,\n        \"max\": 31,\n        \"num_unique_values\": 31,\n        \"samples\": [\n          1,\n          3\n        ],\n        \"semantic_type\": \"\",\n        \"description\": \"\"\n      }\n    },\n    {\n      \"column\": \"dia da semana\",\n      \"properties\": {\n        \"dtype\": \"number\",\n        \"std\": 2,\n        \"min\": 1,\n        \"max\": 7,\n        \"num_unique_values\": 7,\n        \"samples\": [\n          1,\n          6\n        ],\n        \"semantic_type\": \"\",\n        \"description\": \"\"\n      }\n    }\n  ]\n}"
            }
          },
          "metadata": {}
        }
      ]
    },
    {
      "cell_type": "code",
      "source": [
        "print(f\"\\nSeu dataset tem {df.shape[0]} linhas e {df.shape[1]} colunas\")"
      ],
      "metadata": {
        "colab": {
          "base_uri": "https://localhost:8080/"
        },
        "id": "sSm3CJT3hc-J",
        "outputId": "5e36b0a0-daf5-4c3f-fa1b-b924a0e65700"
      },
      "execution_count": null,
      "outputs": [
        {
          "output_type": "stream",
          "name": "stdout",
          "text": [
            "\n",
            "Seu dataset tem 200 linhas e 14 colunas\n"
          ]
        }
      ]
    },
    {
      "cell_type": "code",
      "source": [
        "# nomes das colunas\n",
        "print(df.columns.tolist())"
      ],
      "metadata": {
        "colab": {
          "base_uri": "https://localhost:8080/"
        },
        "id": "P8IVU1cqWFF4",
        "outputId": "f8fdf432-79b8-46ea-9b7f-fc18437da202"
      },
      "execution_count": null,
      "outputs": [
        {
          "output_type": "stream",
          "name": "stdout",
          "text": [
            "['data_venda', 'nome_cliente', 'estado', 'nome_produto', 'categoria', 'quantidade', 'preco_unitario', 'total_venda', 'quantidade_estoque', 'localizacao_estoque', 'ano', 'mes', 'dia', 'dia da semana']\n"
          ]
        }
      ]
    },
    {
      "cell_type": "code",
      "source": [
        "# verifica se tem dados faltando\n",
        "dados_faltantes = df.isnull().sum()\n",
        "print (dados_faltantes)"
      ],
      "metadata": {
        "colab": {
          "base_uri": "https://localhost:8080/"
        },
        "id": "eu1jZdKqWiLL",
        "outputId": "7d5962fc-0dd4-49a3-fe38-ad33ee653b8f"
      },
      "execution_count": null,
      "outputs": [
        {
          "output_type": "stream",
          "name": "stdout",
          "text": [
            "data_venda             0\n",
            "nome_cliente           0\n",
            "estado                 0\n",
            "nome_produto           0\n",
            "categoria              0\n",
            "quantidade             0\n",
            "preco_unitario         0\n",
            "total_venda            0\n",
            "quantidade_estoque     0\n",
            "localizacao_estoque    0\n",
            "ano                    0\n",
            "mes                    0\n",
            "dia                    0\n",
            "dia da semana          0\n",
            "dtype: int64\n"
          ]
        }
      ]
    },
    {
      "cell_type": "code",
      "source": [
        "# resumo estatistico simples\n",
        "print(df.describe())"
      ],
      "metadata": {
        "colab": {
          "base_uri": "https://localhost:8080/"
        },
        "id": "pAeDE5D4W6NC",
        "outputId": "038b6f6a-7641-46ff-da57-4bed05fdb2a9"
      },
      "execution_count": null,
      "outputs": [
        {
          "output_type": "stream",
          "name": "stdout",
          "text": [
            "       quantidade  quantidade_estoque          ano         mes         dia  \\\n",
            "count  200.000000          200.000000   200.000000  200.000000  200.000000   \n",
            "mean     5.805000          162.870000  2024.850000    4.450000   16.405000   \n",
            "std      2.927426           81.097392     0.357967    3.488315    8.609973   \n",
            "min      1.000000           11.000000  2024.000000    1.000000    1.000000   \n",
            "25%      3.000000           97.750000  2025.000000    2.000000   10.000000   \n",
            "50%      6.000000          169.000000  2025.000000    4.000000   17.000000   \n",
            "75%      8.000000          233.250000  2025.000000    5.000000   24.000000   \n",
            "max     10.000000          298.000000  2025.000000   12.000000   31.000000   \n",
            "\n",
            "       dia da semana  \n",
            "count      200.00000  \n",
            "mean         4.05000  \n",
            "std          2.18894  \n",
            "min          1.00000  \n",
            "25%          2.00000  \n",
            "50%          4.00000  \n",
            "75%          6.00000  \n",
            "max          7.00000  \n"
          ]
        }
      ]
    },
    {
      "cell_type": "code",
      "source": [
        "# valores zerados em colunas numericas\n",
        "df[['quantidade', 'preco_unitario', 'total_venda', 'quantidade_estoque',  'ano', 'mes', 'dia', 'dia da semana']].eq(0).sum()"
      ],
      "metadata": {
        "colab": {
          "base_uri": "https://localhost:8080/",
          "height": 335
        },
        "id": "tErab59UqAAx",
        "outputId": "c80be390-b81d-4368-851e-9a1d8f141b09"
      },
      "execution_count": null,
      "outputs": [
        {
          "output_type": "execute_result",
          "data": {
            "text/plain": [
              "quantidade            0\n",
              "preco_unitario        0\n",
              "total_venda           0\n",
              "quantidade_estoque    0\n",
              "ano                   0\n",
              "mes                   0\n",
              "dia                   0\n",
              "dia da semana         0\n",
              "dtype: int64"
            ],
            "text/html": [
              "<div>\n",
              "<style scoped>\n",
              "    .dataframe tbody tr th:only-of-type {\n",
              "        vertical-align: middle;\n",
              "    }\n",
              "\n",
              "    .dataframe tbody tr th {\n",
              "        vertical-align: top;\n",
              "    }\n",
              "\n",
              "    .dataframe thead th {\n",
              "        text-align: right;\n",
              "    }\n",
              "</style>\n",
              "<table border=\"1\" class=\"dataframe\">\n",
              "  <thead>\n",
              "    <tr style=\"text-align: right;\">\n",
              "      <th></th>\n",
              "      <th>0</th>\n",
              "    </tr>\n",
              "  </thead>\n",
              "  <tbody>\n",
              "    <tr>\n",
              "      <th>quantidade</th>\n",
              "      <td>0</td>\n",
              "    </tr>\n",
              "    <tr>\n",
              "      <th>preco_unitario</th>\n",
              "      <td>0</td>\n",
              "    </tr>\n",
              "    <tr>\n",
              "      <th>total_venda</th>\n",
              "      <td>0</td>\n",
              "    </tr>\n",
              "    <tr>\n",
              "      <th>quantidade_estoque</th>\n",
              "      <td>0</td>\n",
              "    </tr>\n",
              "    <tr>\n",
              "      <th>ano</th>\n",
              "      <td>0</td>\n",
              "    </tr>\n",
              "    <tr>\n",
              "      <th>mes</th>\n",
              "      <td>0</td>\n",
              "    </tr>\n",
              "    <tr>\n",
              "      <th>dia</th>\n",
              "      <td>0</td>\n",
              "    </tr>\n",
              "    <tr>\n",
              "      <th>dia da semana</th>\n",
              "      <td>0</td>\n",
              "    </tr>\n",
              "  </tbody>\n",
              "</table>\n",
              "</div><br><label><b>dtype:</b> int64</label>"
            ]
          },
          "metadata": {},
          "execution_count": 51
        }
      ]
    },
    {
      "cell_type": "code",
      "source": [
        "# somar uma coluna\n",
        "print(df['total_venda'].sum())"
      ],
      "metadata": {
        "colab": {
          "base_uri": "https://localhost:8080/"
        },
        "id": "IE2HwbMOqS9B",
        "outputId": "5249d578-1c49-410a-d5df-a30e5d4f672a"
      },
      "execution_count": 67,
      "outputs": [
        {
          "output_type": "stream",
          "name": "stdout",
          "text": [
            "168252938\n"
          ]
        }
      ]
    },
    {
      "cell_type": "code",
      "source": [
        "#multiplicando colunas\n",
        "df['total_venda'] = df['quantidade'] * df['preco_unitario']\n",
        "print(df['total_venda'])"
      ],
      "metadata": {
        "colab": {
          "base_uri": "https://localhost:8080/"
        },
        "id": "-24zVcybA4Er",
        "outputId": "21c30cf8-f018-4c01-e491-47534024273d"
      },
      "execution_count": 68,
      "outputs": [
        {
          "output_type": "stream",
          "name": "stdout",
          "text": [
            "0      1449657\n",
            "1      1684858\n",
            "2       219252\n",
            "3       401786\n",
            "4       499704\n",
            "        ...   \n",
            "195    1213295\n",
            "196      79010\n",
            "197    1213737\n",
            "198     734814\n",
            "199    1193328\n",
            "Name: total_venda, Length: 200, dtype: int64\n"
          ]
        }
      ]
    },
    {
      "cell_type": "code",
      "source": [
        "#media da coluna quantidade\n",
        "print(df['quantidade'].mean())"
      ],
      "metadata": {
        "colab": {
          "base_uri": "https://localhost:8080/"
        },
        "id": "D1D-dWYEA8OK",
        "outputId": "8b0abbb6-d719-4558-9ae1-e48ef91978bc"
      },
      "execution_count": 69,
      "outputs": [
        {
          "output_type": "stream",
          "name": "stdout",
          "text": [
            "5.805\n"
          ]
        }
      ]
    },
    {
      "cell_type": "code",
      "source": [
        "#filtrar itens da categoria Eletrônicos\n",
        "print(df[df['categoria'] == 'Eletrônicos'])"
      ],
      "metadata": {
        "colab": {
          "base_uri": "https://localhost:8080/"
        },
        "id": "22y0yA8BDLaT",
        "outputId": "1711ffb3-490c-414a-d6c1-2c9e9d0333b2"
      },
      "execution_count": 70,
      "outputs": [
        {
          "output_type": "stream",
          "name": "stdout",
          "text": [
            "    data_venda              nome_cliente estado    nome_produto    categoria  \\\n",
            "3   2025-02-09      Maria Clara Caldeira     BA  Fone de Ouvido  Eletrônicos   \n",
            "5   2025-04-04             Alana Peixoto     BA  Fone de Ouvido  Eletrônicos   \n",
            "8   2024-12-21                Davi Silva     BA          Tablet  Eletrônicos   \n",
            "15  2025-04-10          Vicente Teixeira     BA  Fone de Ouvido  Eletrônicos   \n",
            "19  2025-01-13             Daniela Rocha     BA        Notebook  Eletrônicos   \n",
            "20  2025-03-16           Nathan Teixeira     BA          Tablet  Eletrônicos   \n",
            "22  2024-12-19      Sr, Benício da Cunha     BA         Monitor  Eletrônicos   \n",
            "25  2025-01-22               Ian Pereira     BA  Fone de Ouvido  Eletrônicos   \n",
            "35  2024-12-27            Thales Pereira     BA  Fone de Ouvido  Eletrônicos   \n",
            "43  2025-05-27        Davi Lucca Cardoso     MG      Smartphone  Eletrônicos   \n",
            "44  2024-12-22         Emanuelly Correia     MG      Smartphone  Eletrônicos   \n",
            "49  2025-01-03     Luiz Henrique Pereira     MG      Smartphone  Eletrônicos   \n",
            "59  2025-04-04      Dra, Catarina Castro     PE          Tablet  Eletrônicos   \n",
            "61  2025-03-07               Clara Viana     PE         Monitor  Eletrônicos   \n",
            "67  2025-05-28      Luiz Gustavo Freitas     PE         Monitor  Eletrônicos   \n",
            "79  2025-05-24            Luiza Carvalho     PE      Smartphone  Eletrônicos   \n",
            "96  2025-04-11        Dr, Thales da Mata     PR        Notebook  Eletrônicos   \n",
            "101 2025-03-28            Cecília Duarte     PR         Monitor  Eletrônicos   \n",
            "107 2025-03-04  Dr, João Miguel Monteiro     PR          Tablet  Eletrônicos   \n",
            "112 2025-06-08           Emanuel Costela     RJ        Notebook  Eletrônicos   \n",
            "113 2025-02-02           Alícia da Cunha     RJ         Monitor  Eletrônicos   \n",
            "114 2025-02-22      Maria Fernanda Jesus     RJ  Fone de Ouvido  Eletrônicos   \n",
            "118 2024-12-13       João Vitor da Costa     RJ  Fone de Ouvido  Eletrônicos   \n",
            "119 2025-03-10      Dr, Henrique Pereira     RJ        Notebook  Eletrônicos   \n",
            "126 2025-04-18        Francisco Monteiro     RJ        Notebook  Eletrônicos   \n",
            "128 2024-12-12       Fernando Nascimento     RJ         Monitor  Eletrônicos   \n",
            "129 2025-05-03               Luigi Pires     RJ        Notebook  Eletrônicos   \n",
            "133 2025-02-08       Dra, Lívia Ferreira     RJ      Smartphone  Eletrônicos   \n",
            "134 2025-02-14           Brenda Monteiro     RS          Tablet  Eletrônicos   \n",
            "139 2025-02-04          Eduarda Teixeira     RS         Monitor  Eletrônicos   \n",
            "146 2025-02-24           Mirella da Cruz     RS      Smartphone  Eletrônicos   \n",
            "148 2024-12-20           Lorena Caldeira     RS  Fone de Ouvido  Eletrônicos   \n",
            "150 2024-12-17     Dra, Brenda Gonçalves     RS      Smartphone  Eletrônicos   \n",
            "152 2025-05-29            Heitor Cardoso     RS          Tablet  Eletrônicos   \n",
            "173 2025-04-07          Sr, Breno Farias     SP         Monitor  Eletrônicos   \n",
            "188 2025-01-04       Maria Julia Almeida     SP        Notebook  Eletrônicos   \n",
            "\n",
            "     quantidade  preco_unitario  total_venda  quantidade_estoque  \\\n",
            "3             2          200893       401786                 201   \n",
            "5             7          220546      1543822                 262   \n",
            "8             7           92347       646429                 269   \n",
            "15            7          225873      1581111                 261   \n",
            "19            2          269105       538210                  22   \n",
            "20            8           52978       423824                 252   \n",
            "22           10          150734      1507340                  37   \n",
            "25            7           46428       324996                 130   \n",
            "35            9          183957      1655613                 268   \n",
            "43            2            4059         8118                 108   \n",
            "44            1           84027        84027                 110   \n",
            "49            7          149873      1049111                 199   \n",
            "59           10          226274      2262740                 245   \n",
            "61           10          179872      1798720                 279   \n",
            "67            6            1265         7590                 223   \n",
            "79           10           23507       235070                 227   \n",
            "96            7          222094      1554658                 270   \n",
            "101          10          145223      1452230                  54   \n",
            "107          10           16747       167470                  90   \n",
            "112           8           48194       385552                 112   \n",
            "113           8          175146      1401168                  97   \n",
            "114           4          242284       969136                  31   \n",
            "118           7           21583       151081                 246   \n",
            "119           9          289717      2607453                 197   \n",
            "126           8           78116       624928                 196   \n",
            "128           2           29404        58808                 292   \n",
            "129          10            5207        52070                 125   \n",
            "133           4          226045       904180                  48   \n",
            "134           3           39042       117126                 112   \n",
            "139           4          231537       926148                 197   \n",
            "146           3          121757       365271                 224   \n",
            "148          10           16251       162510                  50   \n",
            "150          10            3415        34150                 145   \n",
            "152           7           38478       269346                 172   \n",
            "173           2          148984       297968                  30   \n",
            "188          10           14922       149220                 216   \n",
            "\n",
            "    localizacao_estoque   ano  mes  dia  dia da semana  mes_venda  \n",
            "3              B2-A1-C2  2025    2    9              1          2  \n",
            "5              A2-B2-C1  2025    4    4              6          4  \n",
            "8              C3-A2-B2  2024   12   21              7         12  \n",
            "15             A2-B2-C1  2025    4   10              5          4  \n",
            "19             A1-B1-C1  2025    1   13              2          1  \n",
            "20             D1-A2-B1  2025    3   16              1          3  \n",
            "22             A1-B1-C1  2024   12   19              5         12  \n",
            "25             D1-A2-B1  2025    1   22              4          1  \n",
            "35             A2-B2-C1  2024   12   27              6         12  \n",
            "43             B2-A1-C2  2025    5   27              3          5  \n",
            "44             B2-A1-C2  2024   12   22              1         12  \n",
            "49             A1-B1-C1  2025    1    3              6          1  \n",
            "59             C3-A2-B2  2025    4    4              6          4  \n",
            "61             A2-B2-C1  2025    3    7              6          3  \n",
            "67             B2-A1-C2  2025    5   28              4          5  \n",
            "79             A2-B2-C1  2025    5   24              7          5  \n",
            "96             A2-B2-C1  2025    4   11              6          4  \n",
            "101            B2-A1-C2  2025    3   28              6          3  \n",
            "107            A1-B1-C1  2025    3    4              3          3  \n",
            "112            B2-A1-C2  2025    6    8              1          6  \n",
            "113            D1-A2-B1  2025    2    2              1          2  \n",
            "114            A2-B2-C1  2025    2   22              7          2  \n",
            "118            D1-A2-B1  2024   12   13              6         12  \n",
            "119            C3-A2-B2  2025    3   10              2          3  \n",
            "126            C3-A2-B2  2025    4   18              6          4  \n",
            "128            D1-A2-B1  2024   12   12              5         12  \n",
            "129            D1-A2-B1  2025    5    3              7          5  \n",
            "133            D1-A2-B1  2025    2    8              7          2  \n",
            "134            B2-A1-C2  2025    2   14              6          2  \n",
            "139            C3-A2-B2  2025    2    4              3          2  \n",
            "146            C3-A2-B2  2025    2   24              2          2  \n",
            "148            D1-A2-B1  2024   12   20              6         12  \n",
            "150            A2-B2-C1  2024   12   17              3         12  \n",
            "152            A1-B1-C1  2025    5   29              5          5  \n",
            "173            A1-B1-C1  2025    4    7              2          4  \n",
            "188            A1-B1-C1  2025    1    4              7          1  \n"
          ]
        }
      ]
    },
    {
      "cell_type": "code",
      "source": [
        "#filtros compostos ou combinados\n",
        "print(df[(df['categoria'] == 'Eletrônicos') & (df['quantidade'] > 3)])"
      ],
      "metadata": {
        "colab": {
          "base_uri": "https://localhost:8080/"
        },
        "id": "KCUz_w7CDj6K",
        "outputId": "b051ec94-6d27-48a4-905b-e32e83e6a2c4"
      },
      "execution_count": 71,
      "outputs": [
        {
          "output_type": "stream",
          "name": "stdout",
          "text": [
            "    data_venda              nome_cliente estado    nome_produto    categoria  \\\n",
            "5   2025-04-04             Alana Peixoto     BA  Fone de Ouvido  Eletrônicos   \n",
            "8   2024-12-21                Davi Silva     BA          Tablet  Eletrônicos   \n",
            "15  2025-04-10          Vicente Teixeira     BA  Fone de Ouvido  Eletrônicos   \n",
            "20  2025-03-16           Nathan Teixeira     BA          Tablet  Eletrônicos   \n",
            "22  2024-12-19      Sr, Benício da Cunha     BA         Monitor  Eletrônicos   \n",
            "25  2025-01-22               Ian Pereira     BA  Fone de Ouvido  Eletrônicos   \n",
            "35  2024-12-27            Thales Pereira     BA  Fone de Ouvido  Eletrônicos   \n",
            "49  2025-01-03     Luiz Henrique Pereira     MG      Smartphone  Eletrônicos   \n",
            "59  2025-04-04      Dra, Catarina Castro     PE          Tablet  Eletrônicos   \n",
            "61  2025-03-07               Clara Viana     PE         Monitor  Eletrônicos   \n",
            "67  2025-05-28      Luiz Gustavo Freitas     PE         Monitor  Eletrônicos   \n",
            "79  2025-05-24            Luiza Carvalho     PE      Smartphone  Eletrônicos   \n",
            "96  2025-04-11        Dr, Thales da Mata     PR        Notebook  Eletrônicos   \n",
            "101 2025-03-28            Cecília Duarte     PR         Monitor  Eletrônicos   \n",
            "107 2025-03-04  Dr, João Miguel Monteiro     PR          Tablet  Eletrônicos   \n",
            "112 2025-06-08           Emanuel Costela     RJ        Notebook  Eletrônicos   \n",
            "113 2025-02-02           Alícia da Cunha     RJ         Monitor  Eletrônicos   \n",
            "114 2025-02-22      Maria Fernanda Jesus     RJ  Fone de Ouvido  Eletrônicos   \n",
            "118 2024-12-13       João Vitor da Costa     RJ  Fone de Ouvido  Eletrônicos   \n",
            "119 2025-03-10      Dr, Henrique Pereira     RJ        Notebook  Eletrônicos   \n",
            "126 2025-04-18        Francisco Monteiro     RJ        Notebook  Eletrônicos   \n",
            "129 2025-05-03               Luigi Pires     RJ        Notebook  Eletrônicos   \n",
            "133 2025-02-08       Dra, Lívia Ferreira     RJ      Smartphone  Eletrônicos   \n",
            "139 2025-02-04          Eduarda Teixeira     RS         Monitor  Eletrônicos   \n",
            "148 2024-12-20           Lorena Caldeira     RS  Fone de Ouvido  Eletrônicos   \n",
            "150 2024-12-17     Dra, Brenda Gonçalves     RS      Smartphone  Eletrônicos   \n",
            "152 2025-05-29            Heitor Cardoso     RS          Tablet  Eletrônicos   \n",
            "188 2025-01-04       Maria Julia Almeida     SP        Notebook  Eletrônicos   \n",
            "\n",
            "     quantidade  preco_unitario  total_venda  quantidade_estoque  \\\n",
            "5             7          220546      1543822                 262   \n",
            "8             7           92347       646429                 269   \n",
            "15            7          225873      1581111                 261   \n",
            "20            8           52978       423824                 252   \n",
            "22           10          150734      1507340                  37   \n",
            "25            7           46428       324996                 130   \n",
            "35            9          183957      1655613                 268   \n",
            "49            7          149873      1049111                 199   \n",
            "59           10          226274      2262740                 245   \n",
            "61           10          179872      1798720                 279   \n",
            "67            6            1265         7590                 223   \n",
            "79           10           23507       235070                 227   \n",
            "96            7          222094      1554658                 270   \n",
            "101          10          145223      1452230                  54   \n",
            "107          10           16747       167470                  90   \n",
            "112           8           48194       385552                 112   \n",
            "113           8          175146      1401168                  97   \n",
            "114           4          242284       969136                  31   \n",
            "118           7           21583       151081                 246   \n",
            "119           9          289717      2607453                 197   \n",
            "126           8           78116       624928                 196   \n",
            "129          10            5207        52070                 125   \n",
            "133           4          226045       904180                  48   \n",
            "139           4          231537       926148                 197   \n",
            "148          10           16251       162510                  50   \n",
            "150          10            3415        34150                 145   \n",
            "152           7           38478       269346                 172   \n",
            "188          10           14922       149220                 216   \n",
            "\n",
            "    localizacao_estoque   ano  mes  dia  dia da semana  mes_venda  \n",
            "5              A2-B2-C1  2025    4    4              6          4  \n",
            "8              C3-A2-B2  2024   12   21              7         12  \n",
            "15             A2-B2-C1  2025    4   10              5          4  \n",
            "20             D1-A2-B1  2025    3   16              1          3  \n",
            "22             A1-B1-C1  2024   12   19              5         12  \n",
            "25             D1-A2-B1  2025    1   22              4          1  \n",
            "35             A2-B2-C1  2024   12   27              6         12  \n",
            "49             A1-B1-C1  2025    1    3              6          1  \n",
            "59             C3-A2-B2  2025    4    4              6          4  \n",
            "61             A2-B2-C1  2025    3    7              6          3  \n",
            "67             B2-A1-C2  2025    5   28              4          5  \n",
            "79             A2-B2-C1  2025    5   24              7          5  \n",
            "96             A2-B2-C1  2025    4   11              6          4  \n",
            "101            B2-A1-C2  2025    3   28              6          3  \n",
            "107            A1-B1-C1  2025    3    4              3          3  \n",
            "112            B2-A1-C2  2025    6    8              1          6  \n",
            "113            D1-A2-B1  2025    2    2              1          2  \n",
            "114            A2-B2-C1  2025    2   22              7          2  \n",
            "118            D1-A2-B1  2024   12   13              6         12  \n",
            "119            C3-A2-B2  2025    3   10              2          3  \n",
            "126            C3-A2-B2  2025    4   18              6          4  \n",
            "129            D1-A2-B1  2025    5    3              7          5  \n",
            "133            D1-A2-B1  2025    2    8              7          2  \n",
            "139            C3-A2-B2  2025    2    4              3          2  \n",
            "148            D1-A2-B1  2024   12   20              6         12  \n",
            "150            A2-B2-C1  2024   12   17              3         12  \n",
            "152            A1-B1-C1  2025    5   29              5          5  \n",
            "188            A1-B1-C1  2025    1    4              7          1  \n"
          ]
        }
      ]
    },
    {
      "cell_type": "code",
      "source": [
        "df = df.rename(columns={'catergoria': 'categoria'})"
      ],
      "metadata": {
        "id": "nq7sTJc_DNH8"
      },
      "execution_count": 60,
      "outputs": []
    },
    {
      "cell_type": "code",
      "source": [
        "# somar o total de vendas por categoria\n",
        "vendas_por_categoria = df.groupby('categoria')['total_venda'].sum().sort_values(ascending=False)\n",
        "print(vendas_por_categoria)"
      ],
      "metadata": {
        "colab": {
          "base_uri": "https://localhost:8080/"
        },
        "id": "TSgAoHQ9A7FX",
        "outputId": "a115f5f7-5b06-4d94-d975-a422ea1ba117"
      },
      "execution_count": 61,
      "outputs": [
        {
          "output_type": "stream",
          "name": "stdout",
          "text": [
            "categoria\n",
            "Alimentos      37877727\n",
            "Vestuário      36367503\n",
            "Brinquedos     33100607\n",
            "Eletrônicos    32221760\n",
            "Móveis         28685341\n",
            "Name: total_venda, dtype: int64\n"
          ]
        }
      ]
    },
    {
      "cell_type": "code",
      "source": [
        "# produtos mais vendidos em quantidade\n",
        "produtos_mais_vendidos = df.groupby('nome_produto')['quantidade'].sum().sort_values(ascending=False).head(5)\n",
        "print(produtos_mais_vendidos)"
      ],
      "metadata": {
        "colab": {
          "base_uri": "https://localhost:8080/"
        },
        "id": "gNztD7InCuoP",
        "outputId": "607bcf01-e353-40e4-c0b9-48b6addc698f"
      },
      "execution_count": 62,
      "outputs": [
        {
          "output_type": "stream",
          "name": "stdout",
          "text": [
            "nome_produto\n",
            "Jogo de Tabuleiro    77\n",
            "Leite                70\n",
            "Jaqueta              66\n",
            "Mesa                 62\n",
            "Arroz                61\n",
            "Name: quantidade, dtype: int64\n"
          ]
        }
      ]
    },
    {
      "cell_type": "code",
      "source": [
        "vendas_por_categoria = df.groupby('categoria')['total_venda'].sum().sort_values(ascending=False)\n",
        "print(vendas_por_categoria)"
      ],
      "metadata": {
        "colab": {
          "base_uri": "https://localhost:8080/"
        },
        "id": "B8fA92bpFGuV",
        "outputId": "3d95c0ad-802f-420e-8591-fcb18dd9f742"
      },
      "execution_count": 85,
      "outputs": [
        {
          "output_type": "stream",
          "name": "stdout",
          "text": [
            "categoria\n",
            "Vestuário      34673955\n",
            "Alimentos      32963142\n",
            "Brinquedos     31977236\n",
            "Eletrônicos    26718980\n",
            "Móveis         23610385\n",
            "Name: total_venda, dtype: int64\n"
          ]
        }
      ]
    },
    {
      "cell_type": "code",
      "source": [
        "#media de quantidade vendida por categoria\n",
        "print(df.groupby('categoria')['quantidade'].mean())"
      ],
      "metadata": {
        "colab": {
          "base_uri": "https://localhost:8080/"
        },
        "id": "ZYs6ASgbDya2",
        "outputId": "a6c4039b-3426-4930-8e08-5816e17f3518"
      },
      "execution_count": 73,
      "outputs": [
        {
          "output_type": "stream",
          "name": "stdout",
          "text": [
            "categoria\n",
            "Alimentos      5.682927\n",
            "Brinquedos     5.590909\n",
            "Eletrônicos    6.694444\n",
            "Móveis         5.361111\n",
            "Vestuário      5.767442\n",
            "Name: quantidade, dtype: float64\n"
          ]
        }
      ]
    },
    {
      "cell_type": "code",
      "source": [
        "#soma de quantidade vendida por categoria\n",
        "print(df.groupby('categoria')['quantidade'].sum())"
      ],
      "metadata": {
        "colab": {
          "base_uri": "https://localhost:8080/"
        },
        "id": "wRjxwScUD14J",
        "outputId": "de8b6900-c38b-4710-bf4c-af18f4a8d534"
      },
      "execution_count": 74,
      "outputs": [
        {
          "output_type": "stream",
          "name": "stdout",
          "text": [
            "categoria\n",
            "Alimentos      233\n",
            "Brinquedos     246\n",
            "Eletrônicos    241\n",
            "Móveis         193\n",
            "Vestuário      248\n",
            "Name: quantidade, dtype: int64\n"
          ]
        }
      ]
    },
    {
      "cell_type": "code",
      "source": [
        "# comportamento das vendas ao longo do tempo\n",
        "df['mes_venda'] = df['data_venda'].dt.month\n",
        "\n",
        "# agrupando os dados por mês e somando o total de vendas\n",
        "vendas_por_mes = df.groupby('mes_venda')['total_venda'].sum()\n",
        "print(vendas_por_mes)"
      ],
      "metadata": {
        "colab": {
          "base_uri": "https://localhost:8080/"
        },
        "id": "ohAZdZgbDSb8",
        "outputId": "01f14d10-f477-452c-f74d-a460fb49b5c4"
      },
      "execution_count": 64,
      "outputs": [
        {
          "output_type": "stream",
          "name": "stdout",
          "text": [
            "mes_venda\n",
            "1     25322288\n",
            "2     31584932\n",
            "3     28726872\n",
            "4     29894533\n",
            "5     27617541\n",
            "6      6075773\n",
            "12    19030999\n",
            "Name: total_venda, dtype: int64\n"
          ]
        }
      ]
    },
    {
      "cell_type": "code",
      "source": [
        "#multiplicas estatisticas por categorias\n",
        "print(df.groupby('categoria')['quantidade'].agg(['mean', 'sum','count','max','min']))"
      ],
      "metadata": {
        "colab": {
          "base_uri": "https://localhost:8080/"
        },
        "id": "FIM91MvCD7Tl",
        "outputId": "8698c155-234c-430b-e0ad-f54ceb4e008f"
      },
      "execution_count": 75,
      "outputs": [
        {
          "output_type": "stream",
          "name": "stdout",
          "text": [
            "                 mean  sum  count  max  min\n",
            "categoria                                  \n",
            "Alimentos    5.682927  233     41   10    1\n",
            "Brinquedos   5.590909  246     44   10    1\n",
            "Eletrônicos  6.694444  241     36   10    1\n",
            "Móveis       5.361111  193     36   10    1\n",
            "Vestuário    5.767442  248     43   10    1\n"
          ]
        }
      ]
    },
    {
      "cell_type": "code",
      "source": [
        "# título e rótulos\n",
        "plt.title('Total de Vendas por Categoria', fontsize=16)\n",
        "\n",
        "#grafico de pizza do percentual de vendas por categoria\n",
        "df['categoria'].value_counts(normalize=True).plot(kind='pie')\n",
        "plt.show()\n"
      ],
      "metadata": {
        "colab": {
          "base_uri": "https://localhost:8080/",
          "height": 430
        },
        "id": "WFmmQMJXDjB3",
        "outputId": "bf1f95ad-3851-45b5-88ed-49d166af48bf"
      },
      "execution_count": 84,
      "outputs": [
        {
          "output_type": "display_data",
          "data": {
            "text/plain": [
              "<Figure size 640x480 with 1 Axes>"
            ],
            "image/png": "[encoded data removed]"
          },
          "metadata": {}
        }
      ]
    },
    {
      "cell_type": "code",
      "source": [
        "# gráfico de linha\n",
        "plt.figure(figsize=(25, 6))\n",
        "sns.lineplot(x=vendas_por_mes.index, y=vendas_por_mes.values, marker='o', color='b')\n",
        "\n",
        "# título e rótulos\n",
        "plt.title('Vendas Mensais ao Longo do Tempo', fontsize=16)\n",
        "plt.xlabel('Mês', fontsize=12)\n",
        "plt.ylabel('Total de Vendas (R$)', fontsize=12)\n",
        "\n",
        "# gráfico final\n",
        "plt.grid(True)\n",
        "plt.show()"
      ],
      "metadata": {
        "colab": {
          "base_uri": "https://localhost:8080/",
          "height": 491
        },
        "id": "rYjl2bxVD0Fo",
        "outputId": "7d505848-c8ed-401d-fe7c-5a105ba9d8b8"
      },
      "execution_count": null,
      "outputs": [
        {
          "output_type": "display_data",
          "data": {
            "text/plain": [
              "<Figure size 2500x600 with 1 Axes>"
            ],
            "image/png": "[encoded data removed]"
          },
          "metadata": {}
        }
      ]
    },
    {
      "cell_type": "code",
      "metadata": {
        "id": "601b0ec1"
      },
      "source": [
        "# comportamento das vendas ao longo do tempo\n",
        "df['mes_venda'] = df['data_venda'].dt.month\n",
        "\n",
        "# agrupando os dados por mês e somando o total de vendas\n",
        "vendas_por_mes = df.groupby('mes_venda')['total_venda'].sum()\n",
        "print(vendas_por_mes)"
      ],
      "execution_count": null,
      "outputs": []
    }
  ]
}